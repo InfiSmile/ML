{
  "nbformat": 4,
  "nbformat_minor": 0,
  "metadata": {
    "kernelspec": {
      "display_name": "Python 3",
      "language": "python",
      "name": "python3"
    },
    "language_info": {
      "codemirror_mode": {
        "name": "ipython",
        "version": 3
      },
      "file_extension": ".py",
      "mimetype": "text/x-python",
      "name": "python",
      "nbconvert_exporter": "python",
      "pygments_lexer": "ipython3",
      "version": "3.5.2"
    },
    "colab": {
      "provenance": [],
      "collapsed_sections": [
        "eG6vuVt3UORJ",
        "AkbnANTaUORP",
        "FoBa-TSuUORT",
        "UHF6wcC3UORY",
        "jttfKe1FUORb",
        "F_kG-HPqUORe",
        "U64P5Qq1UORh",
        "dF17RnuVUORj",
        "K67b23n4UORm",
        "fPojU_CcUORq",
        "g_0JNpyPUORv",
        "LkV857oTUORx",
        "3TiVKbj-UOR3",
        "1Dc7An27UOSC",
        "IAuw6OfsUOSK",
        "RhNjcR52UOSU",
        "Gn8ucEHNUOSW",
        "LNVKqhNXUOSb",
        "Eo_I0fKJUOSg",
        "Mka1iZqSUOSl",
        "GJULDP6AUOSu",
        "cLN0YFzWUOS2",
        "sgcE-qEvUOS_",
        "5DPPX5KCUOTD",
        "vq523GZ-UOTH",
        "dSDXT3FpUOTJ"
      ],
      "include_colab_link": true
    }
  },
  "cells": [
    {
      "cell_type": "markdown",
      "metadata": {
        "id": "view-in-github",
        "colab_type": "text"
      },
      "source": [
        "<a href=\"https://colab.research.google.com/github/InfiSmile/ML/blob/main/NumPy.ipynb\" target=\"_parent\"><img src=\"https://colab.research.google.com/assets/colab-badge.svg\" alt=\"Open In Colab\"/></a>"
      ]
    },
    {
      "cell_type": "code",
      "metadata": {
        "id": "SP2hzNesUOQ3"
      },
      "source": [
        "!pip install numpy"
      ],
      "execution_count": null,
      "outputs": []
    },
    {
      "cell_type": "markdown",
      "metadata": {
        "id": "Ms22eLVBUOQ6"
      },
      "source": [
        "## <font color='orange'>What is NumPy</font>"
      ]
    },
    {
      "cell_type": "markdown",
      "metadata": {
        "id": "opPEI2GpUOQ7"
      },
      "source": [
        "<ul><li>Provides multi-dimensional array object.</li>\n",
        "    <li>Provides tools for working with arrays.</li>\n",
        "</ul>"
      ]
    },
    {
      "cell_type": "markdown",
      "metadata": {
        "id": "8m5TfdruUOQ7"
      },
      "source": [
        "## <font color='green'>Why use NumPy (vs List)</font>"
      ]
    },
    {
      "cell_type": "markdown",
      "metadata": {
        "id": "OGh97T7bUOQ8"
      },
      "source": [
        "<ol>\n",
        "    <li>Size</li>\n",
        "    <li>Performance</li>\n",
        "    <li>Operations</li>\n",
        "</ol>"
      ]
    },
    {
      "cell_type": "markdown",
      "metadata": {
        "id": "5MPQFnwBUOQ8"
      },
      "source": [
        "### Performance comparision"
      ]
    },
    {
      "cell_type": "code",
      "metadata": {
        "id": "2Qs3HCy4UOQ9"
      },
      "source": [
        "import numpy as np\n",
        "import time"
      ],
      "execution_count": null,
      "outputs": []
    },
    {
      "cell_type": "code",
      "source": [
        "time.time()"
      ],
      "metadata": {
        "id": "mlJvr1_ZiZ_v"
      },
      "execution_count": null,
      "outputs": []
    },
    {
      "cell_type": "code",
      "source": [
        "a = [1,2,3], b =[2,1,0]\n",
        "c = [3,3, 3]"
      ],
      "metadata": {
        "id": "8W922wpAjFYr"
      },
      "execution_count": null,
      "outputs": []
    },
    {
      "cell_type": "code",
      "metadata": {
        "id": "d_SHlblbUOQ_"
      },
      "source": [
        "def list_version(size_of_array):\n",
        "    t = time.time()\n",
        "    a = range(size_of_array)\n",
        "    b = range(size_of_array)\n",
        "    for i in range(len(a)):\n",
        "        c = [a[i] + b[i] for i in range(len(a)) ]\n",
        "    return time.time() - t"
      ],
      "execution_count": null,
      "outputs": []
    },
    {
      "cell_type": "code",
      "metadata": {
        "id": "hzTLd8vcUORA"
      },
      "source": [
        "def numpy_version(size_of_array):\n",
        "    t = time.time()\n",
        "    a = np.arange(size_of_array)\n",
        "    b = np.arange(size_of_array)\n",
        "    c = a + b\n",
        "    return time.time() - t"
      ],
      "execution_count": null,
      "outputs": []
    },
    {
      "cell_type": "code",
      "metadata": {
        "id": "YLa8DO1sUORC"
      },
      "source": [
        "size_of_array = 10000\n",
        "print('Time taken using list (sec):', list_version(size_of_array))\n",
        "print('Time taken using Numpy (sec):', numpy_version(size_of_array))"
      ],
      "execution_count": null,
      "outputs": []
    },
    {
      "cell_type": "code",
      "source": [
        "list(range(0,5))"
      ],
      "metadata": {
        "id": "zwWOdb_cbJsG"
      },
      "execution_count": null,
      "outputs": []
    },
    {
      "cell_type": "code",
      "source": [
        "numpy_version(size_of_array)/list_version(size_of_array)"
      ],
      "metadata": {
        "id": "zxKSdz_TUVff"
      },
      "execution_count": null,
      "outputs": []
    },
    {
      "cell_type": "markdown",
      "metadata": {
        "id": "Y_a5CSEBUORD"
      },
      "source": [
        "### Operations"
      ]
    },
    {
      "cell_type": "code",
      "metadata": {
        "id": "8tPb3t9JUORE"
      },
      "source": [
        "x = list(range(10))\n",
        "y = list(range(10))\n",
        "x + y"
      ],
      "execution_count": null,
      "outputs": []
    },
    {
      "cell_type": "code",
      "metadata": {
        "id": "Z2TYjV6xUORG"
      },
      "source": [
        "x = np.arange(10)\n",
        "y = np.arange(10)\n",
        "x + y"
      ],
      "execution_count": null,
      "outputs": []
    },
    {
      "cell_type": "markdown",
      "metadata": {
        "id": "iixNpI_sUORH"
      },
      "source": [
        "# <font color='blue'>What we will learn:</font>"
      ]
    },
    {
      "cell_type": "markdown",
      "metadata": {
        "id": "WgU1F0IfUORI"
      },
      "source": [
        "<ol>\n",
        "    <li>Creating numpy arrays</li>\n",
        "    <li>Array with random numbers</li>\n",
        "    <li>Array methods and attributes</li>\n",
        "    <li>Indexing and Slicing</li>\n",
        "    <li>NumPy Operations</li>\n",
        "    <li>Storing and Reading NumPy arrays</li>\n",
        "</ol>"
      ]
    },
    {
      "cell_type": "markdown",
      "metadata": {
        "id": "AJ-_HSGBUORI"
      },
      "source": [
        "## <font color='green'>1. Creating numpy arrays</font>"
      ]
    },
    {
      "cell_type": "markdown",
      "metadata": {
        "id": "eG6vuVt3UORJ"
      },
      "source": [
        "### From List"
      ]
    },
    {
      "cell_type": "code",
      "metadata": {
        "id": "Eag9nQymUORJ"
      },
      "source": [
        "a = [2,3,5,7,3,10]"
      ],
      "execution_count": null,
      "outputs": []
    },
    {
      "cell_type": "code",
      "source": [
        "a.append(79)"
      ],
      "metadata": {
        "id": "8xS7jOE9SuvX"
      },
      "execution_count": null,
      "outputs": []
    },
    {
      "cell_type": "code",
      "source": [
        "a"
      ],
      "metadata": {
        "colab": {
          "base_uri": "https://localhost:8080/"
        },
        "id": "AarB72x5YD87",
        "outputId": "43ac7bac-2710-453b-df31-28b51cd352a2"
      },
      "execution_count": null,
      "outputs": [
        {
          "output_type": "execute_result",
          "data": {
            "text/plain": [
              "[2, 3, 5, 7, 3, 10, 79]"
            ]
          },
          "metadata": {},
          "execution_count": 14
        }
      ]
    },
    {
      "cell_type": "code",
      "source": [
        "type(a)"
      ],
      "metadata": {
        "colab": {
          "base_uri": "https://localhost:8080/"
        },
        "id": "34D9212PSRV6",
        "outputId": "bfb1dd77-c114-457a-b5a1-b84350a1217f"
      },
      "execution_count": null,
      "outputs": [
        {
          "output_type": "execute_result",
          "data": {
            "text/plain": [
              "list"
            ]
          },
          "metadata": {},
          "execution_count": 15
        }
      ]
    },
    {
      "cell_type": "code",
      "metadata": {
        "id": "aRTI766ZUORL",
        "colab": {
          "base_uri": "https://localhost:8080/"
        },
        "outputId": "f90c6fe6-acf8-4250-c5fc-3933b322a043"
      },
      "source": [
        "a2 = np.array(a)\n",
        "a2"
      ],
      "execution_count": null,
      "outputs": [
        {
          "output_type": "execute_result",
          "data": {
            "text/plain": [
              "array([ 2,  3,  5,  7,  3, 10, 79])"
            ]
          },
          "metadata": {},
          "execution_count": 16
        }
      ]
    },
    {
      "cell_type": "code",
      "source": [
        "type(a2)"
      ],
      "metadata": {
        "colab": {
          "base_uri": "https://localhost:8080/"
        },
        "id": "GMUgBcApSxQr",
        "outputId": "f09f0c95-ea75-4653-ffcb-b1e338780919"
      },
      "execution_count": null,
      "outputs": [
        {
          "output_type": "execute_result",
          "data": {
            "text/plain": [
              "numpy.ndarray"
            ]
          },
          "metadata": {},
          "execution_count": 17
        }
      ]
    },
    {
      "cell_type": "code",
      "metadata": {
        "id": "LTLiJl6JUORM"
      },
      "source": [
        "b = [[1,2,5],[4,3,10]]"
      ],
      "execution_count": null,
      "outputs": []
    },
    {
      "cell_type": "code",
      "metadata": {
        "id": "lAUwf2IqUORO",
        "colab": {
          "base_uri": "https://localhost:8080/"
        },
        "outputId": "67f9fc46-93c5-4d2f-f349-d0da3e905c1e"
      },
      "source": [
        "np.array(b)"
      ],
      "execution_count": null,
      "outputs": [
        {
          "output_type": "execute_result",
          "data": {
            "text/plain": [
              "array([[ 1,  2,  5],\n",
              "       [ 4,  3, 10]])"
            ]
          },
          "metadata": {},
          "execution_count": 19
        }
      ]
    },
    {
      "cell_type": "code",
      "source": [
        "c = [[34, 56, 23], [23, 67, 90], [35, 87, 92], [35, 87, 92], [35, 87, 92]]\n",
        "np.array(c)"
      ],
      "metadata": {
        "colab": {
          "base_uri": "https://localhost:8080/"
        },
        "id": "qDp0Qz8tUdce",
        "outputId": "d9535c83-2c20-4092-b6d5-a988951d23a2"
      },
      "execution_count": null,
      "outputs": [
        {
          "output_type": "execute_result",
          "data": {
            "text/plain": [
              "array([[34, 56, 23],\n",
              "       [23, 67, 90],\n",
              "       [35, 87, 92],\n",
              "       [35, 87, 92],\n",
              "       [35, 87, 92]])"
            ]
          },
          "metadata": {},
          "execution_count": 20
        }
      ]
    },
    {
      "cell_type": "markdown",
      "metadata": {
        "id": "AkbnANTaUORP"
      },
      "source": [
        "### Using arange"
      ]
    },
    {
      "cell_type": "code",
      "metadata": {
        "id": "bXObigOFUORQ",
        "colab": {
          "base_uri": "https://localhost:8080/"
        },
        "outputId": "d2b24553-2ac5-413a-87b8-449029758142"
      },
      "source": [
        "a = np.arange(0, #starting number\n",
        "              10) #Stop number - excluded\n",
        "a"
      ],
      "execution_count": null,
      "outputs": [
        {
          "output_type": "execute_result",
          "data": {
            "text/plain": [
              "array([0, 1, 2, 3, 4, 5, 6, 7, 8, 9])"
            ]
          },
          "metadata": {},
          "execution_count": 21
        }
      ]
    },
    {
      "cell_type": "code",
      "metadata": {
        "id": "Inz1j0UwUORR",
        "colab": {
          "base_uri": "https://localhost:8080/"
        },
        "outputId": "71f18f8a-c8fd-42c7-8493-43c07da280e7"
      },
      "source": [
        "np.arange(0, #start\n",
        "          10, #stop\n",
        "          3) #step"
      ],
      "execution_count": null,
      "outputs": [
        {
          "output_type": "execute_result",
          "data": {
            "text/plain": [
              "array([0, 3, 6, 9])"
            ]
          },
          "metadata": {},
          "execution_count": 23
        }
      ]
    },
    {
      "cell_type": "markdown",
      "metadata": {
        "id": "FoBa-TSuUORT"
      },
      "source": [
        "### Array using 0s and 1s"
      ]
    },
    {
      "cell_type": "code",
      "metadata": {
        "id": "BmvELFgRUORT",
        "colab": {
          "base_uri": "https://localhost:8080/"
        },
        "outputId": "c5023a2b-ede4-47f5-b6bd-32d593afb400"
      },
      "source": [
        "np.zeros(10)"
      ],
      "execution_count": null,
      "outputs": [
        {
          "output_type": "execute_result",
          "data": {
            "text/plain": [
              "array([0., 0., 0., 0., 0., 0., 0., 0., 0., 0.])"
            ]
          },
          "metadata": {},
          "execution_count": 24
        }
      ]
    },
    {
      "cell_type": "code",
      "metadata": {
        "id": "XI_---xwUORV",
        "colab": {
          "base_uri": "https://localhost:8080/"
        },
        "outputId": "42b648bb-e7db-42d5-e58a-e5925e55f20a"
      },
      "source": [
        "np.zeros((4,2))"
      ],
      "execution_count": null,
      "outputs": [
        {
          "output_type": "execute_result",
          "data": {
            "text/plain": [
              "array([[0., 0.],\n",
              "       [0., 0.],\n",
              "       [0., 0.],\n",
              "       [0., 0.]])"
            ]
          },
          "metadata": {},
          "execution_count": 25
        }
      ]
    },
    {
      "cell_type": "code",
      "metadata": {
        "id": "uS58YOl3UORW",
        "colab": {
          "base_uri": "https://localhost:8080/"
        },
        "outputId": "e20dc009-2eb8-4fe1-9977-72e8ea35af5c"
      },
      "source": [
        "np.ones((4,6,2))"
      ],
      "execution_count": null,
      "outputs": [
        {
          "output_type": "execute_result",
          "data": {
            "text/plain": [
              "array([[[1., 1.],\n",
              "        [1., 1.],\n",
              "        [1., 1.],\n",
              "        [1., 1.],\n",
              "        [1., 1.],\n",
              "        [1., 1.]],\n",
              "\n",
              "       [[1., 1.],\n",
              "        [1., 1.],\n",
              "        [1., 1.],\n",
              "        [1., 1.],\n",
              "        [1., 1.],\n",
              "        [1., 1.]],\n",
              "\n",
              "       [[1., 1.],\n",
              "        [1., 1.],\n",
              "        [1., 1.],\n",
              "        [1., 1.],\n",
              "        [1., 1.],\n",
              "        [1., 1.]],\n",
              "\n",
              "       [[1., 1.],\n",
              "        [1., 1.],\n",
              "        [1., 1.],\n",
              "        [1., 1.],\n",
              "        [1., 1.],\n",
              "        [1., 1.]]])"
            ]
          },
          "metadata": {},
          "execution_count": 29
        }
      ]
    },
    {
      "cell_type": "markdown",
      "metadata": {
        "id": "UHF6wcC3UORY"
      },
      "source": [
        "### linspace"
      ]
    },
    {
      "cell_type": "code",
      "metadata": {
        "id": "6MNtJObGUORY",
        "colab": {
          "base_uri": "https://localhost:8080/"
        },
        "outputId": "2638ba89-af6c-44ee-9bed-69049c63a72f"
      },
      "source": [
        "np.linspace(1, #start number\n",
        "            10, #Last number - not excluded\n",
        "            5)  #How many numbers"
      ],
      "execution_count": null,
      "outputs": [
        {
          "output_type": "execute_result",
          "data": {
            "text/plain": [
              "array([ 1.  ,  3.25,  5.5 ,  7.75, 10.  ])"
            ]
          },
          "metadata": {},
          "execution_count": 9
        }
      ]
    },
    {
      "cell_type": "markdown",
      "metadata": {
        "id": "jttfKe1FUORb"
      },
      "source": [
        "### eye matrix"
      ]
    },
    {
      "cell_type": "code",
      "metadata": {
        "id": "j_0sK_efUORc",
        "colab": {
          "base_uri": "https://localhost:8080/"
        },
        "outputId": "8ce85ff5-d455-4d15-9805-cd635f6d79ff"
      },
      "source": [
        "np.eye(4)"
      ],
      "execution_count": null,
      "outputs": [
        {
          "output_type": "execute_result",
          "data": {
            "text/plain": [
              "array([[1., 0., 0., 0.],\n",
              "       [0., 1., 0., 0.],\n",
              "       [0., 0., 1., 0.],\n",
              "       [0., 0., 0., 1.]])"
            ]
          },
          "metadata": {},
          "execution_count": 31
        }
      ]
    },
    {
      "cell_type": "markdown",
      "metadata": {
        "id": "Gq7WCaKkUORe"
      },
      "source": [
        "## <font color='green'>2. Array using random numbers</font>"
      ]
    },
    {
      "cell_type": "markdown",
      "metadata": {
        "id": "F_kG-HPqUORe"
      },
      "source": [
        "#### <font color='blue'>rand</font> - Using uniform distribution"
      ]
    },
    {
      "cell_type": "code",
      "metadata": {
        "id": "fsA6fziDUORe",
        "colab": {
          "base_uri": "https://localhost:8080/"
        },
        "outputId": "d1a36f8a-5a0a-4903-a60f-4a5c9488f848"
      },
      "source": [
        "np.random.rand(4)"
      ],
      "execution_count": null,
      "outputs": [
        {
          "output_type": "execute_result",
          "data": {
            "text/plain": [
              "array([0.58084122, 0.63038185, 0.43533893, 0.97498956])"
            ]
          },
          "metadata": {},
          "execution_count": 32
        }
      ]
    },
    {
      "cell_type": "code",
      "source": [
        "np.random.rand(4)"
      ],
      "metadata": {
        "id": "mrNZBcJpZzE7"
      },
      "execution_count": null,
      "outputs": []
    },
    {
      "cell_type": "code",
      "metadata": {
        "id": "SZ-_ArE1UORg",
        "colab": {
          "base_uri": "https://localhost:8080/"
        },
        "outputId": "3db2a0fc-7375-4f0f-afd6-3c0bf15658f4"
      },
      "source": [
        "np.random.rand(5,10)"
      ],
      "execution_count": null,
      "outputs": [
        {
          "output_type": "execute_result",
          "data": {
            "text/plain": [
              "array([[0.58358379, 0.01714003, 0.27212986, 0.69617202, 0.05771997,\n",
              "        0.75376031, 0.98714858, 0.03521877, 0.56140316, 0.83416379],\n",
              "       [0.90204387, 0.11457523, 0.99075897, 0.17987308, 0.74336817,\n",
              "        0.79811279, 0.33931218, 0.5477854 , 0.35463095, 0.30624147],\n",
              "       [0.34255099, 0.26785662, 0.48081651, 0.84375366, 0.86573152,\n",
              "        0.89688217, 0.07440229, 0.86782417, 0.28102709, 0.71295362],\n",
              "       [0.98247486, 0.63489468, 0.13251361, 0.31836751, 0.64351083,\n",
              "        0.40329961, 0.62507102, 0.40218628, 0.35763516, 0.87351367],\n",
              "       [0.82962942, 0.08373897, 0.58919704, 0.01202424, 0.21805197,\n",
              "        0.73150459, 0.79206131, 0.11986485, 0.45507194, 0.84613586]])"
            ]
          },
          "metadata": {},
          "execution_count": 33
        }
      ]
    },
    {
      "cell_type": "code",
      "source": [
        "x = 0.42014271\n",
        "type(x)"
      ],
      "metadata": {
        "id": "E9gvYkRpaadE"
      },
      "execution_count": null,
      "outputs": []
    },
    {
      "cell_type": "markdown",
      "metadata": {
        "id": "U64P5Qq1UORh"
      },
      "source": [
        "#### <font color='blue'>randn</font> - Using normal distribution"
      ]
    },
    {
      "cell_type": "code",
      "metadata": {
        "id": "f46a3rkPUORi",
        "colab": {
          "base_uri": "https://localhost:8080/"
        },
        "outputId": "db67e889-e7c4-47c5-b6fb-ea8014927b0a"
      },
      "source": [
        "np.random.randn(4,3)"
      ],
      "execution_count": null,
      "outputs": [
        {
          "output_type": "execute_result",
          "data": {
            "text/plain": [
              "array([[ 0.78689651,  0.7578806 , -0.24242273],\n",
              "       [-0.25696771, -0.05076801,  1.10417794],\n",
              "       [ 0.31383224,  0.3806631 ,  0.07483312],\n",
              "       [ 0.52441146, -2.09637446,  0.51096043]])"
            ]
          },
          "metadata": {},
          "execution_count": 34
        }
      ]
    },
    {
      "cell_type": "markdown",
      "metadata": {
        "id": "dF17RnuVUORj"
      },
      "source": [
        "#### <font color='blue'>randint</font> - generating random integer(s)"
      ]
    },
    {
      "cell_type": "code",
      "metadata": {
        "id": "Z9EYM2wiUORk",
        "colab": {
          "base_uri": "https://localhost:8080/"
        },
        "outputId": "7f373c14-59c7-46d6-d075-73b9911da510"
      },
      "source": [
        "np.random.randint(5,20)"
      ],
      "execution_count": null,
      "outputs": [
        {
          "output_type": "execute_result",
          "data": {
            "text/plain": [
              "14"
            ]
          },
          "metadata": {},
          "execution_count": 35
        }
      ]
    },
    {
      "cell_type": "code",
      "metadata": {
        "id": "HiazR5vPUORl",
        "colab": {
          "base_uri": "https://localhost:8080/"
        },
        "outputId": "1aac0df7-6124-4634-8c53-f7ec8a4248a8"
      },
      "source": [
        "np.random.randint(5,20,6)"
      ],
      "execution_count": null,
      "outputs": [
        {
          "output_type": "execute_result",
          "data": {
            "text/plain": [
              "array([ 5,  8, 17, 12,  8, 15])"
            ]
          },
          "metadata": {},
          "execution_count": 37
        }
      ]
    },
    {
      "cell_type": "code",
      "source": [
        "np.random.randint(5,20,(5,4))"
      ],
      "metadata": {
        "colab": {
          "base_uri": "https://localhost:8080/"
        },
        "id": "NMAPnbj4bJpW",
        "outputId": "050ec2f9-0f72-4104-8aec-3c562622422a"
      },
      "execution_count": null,
      "outputs": [
        {
          "output_type": "execute_result",
          "data": {
            "text/plain": [
              "array([[ 5,  7,  5,  7],\n",
              "       [ 9,  5, 11,  9],\n",
              "       [10, 13, 15,  6],\n",
              "       [19,  7,  6, 14],\n",
              "       [ 7, 13,  7,  9]])"
            ]
          },
          "metadata": {},
          "execution_count": 38
        }
      ]
    },
    {
      "cell_type": "markdown",
      "metadata": {
        "id": "K67b23n4UORm"
      },
      "source": [
        "#### <font color='blue'>Seed</font> - Bringing sanity to randomness"
      ]
    },
    {
      "cell_type": "code",
      "metadata": {
        "id": "0MFSCT2ZUORn",
        "colab": {
          "base_uri": "https://localhost:8080/"
        },
        "outputId": "130b59f3-50ba-4ef1-f575-58cb4540d559"
      },
      "source": [
        "np.random.randint(1,100,3)"
      ],
      "execution_count": null,
      "outputs": [
        {
          "output_type": "execute_result",
          "data": {
            "text/plain": [
              "array([54, 87, 40])"
            ]
          },
          "metadata": {},
          "execution_count": 40
        }
      ]
    },
    {
      "cell_type": "code",
      "metadata": {
        "id": "olJ5nwsRUORo",
        "colab": {
          "base_uri": "https://localhost:8080/"
        },
        "outputId": "374d6e02-ce74-437f-c2da-ce06845222dc"
      },
      "source": [
        "np.random.seed(1)\n",
        "np.random.randint(1,100,3)"
      ],
      "execution_count": null,
      "outputs": [
        {
          "output_type": "execute_result",
          "data": {
            "text/plain": [
              "array([38, 13, 73])"
            ]
          },
          "metadata": {},
          "execution_count": 51
        }
      ]
    },
    {
      "cell_type": "markdown",
      "metadata": {
        "id": "lZaeUWnaUORp"
      },
      "source": [
        "## <font color='orange'>3. Array methods and attributes</font>"
      ]
    },
    {
      "cell_type": "markdown",
      "metadata": {
        "id": "fPojU_CcUORq"
      },
      "source": [
        "### Shape"
      ]
    },
    {
      "cell_type": "code",
      "metadata": {
        "id": "bI62BteGUORr",
        "colab": {
          "base_uri": "https://localhost:8080/"
        },
        "outputId": "0bd77a2f-b690-40c9-9672-85b5f7892182"
      },
      "source": [
        "a = np.arange(20)\n",
        "a"
      ],
      "execution_count": null,
      "outputs": [
        {
          "output_type": "execute_result",
          "data": {
            "text/plain": [
              "array([ 0,  1,  2,  3,  4,  5,  6,  7,  8,  9, 10, 11, 12, 13, 14, 15, 16,\n",
              "       17, 18, 19])"
            ]
          },
          "metadata": {},
          "execution_count": 52
        }
      ]
    },
    {
      "cell_type": "code",
      "metadata": {
        "id": "PVimFaPrUORs",
        "colab": {
          "base_uri": "https://localhost:8080/"
        },
        "outputId": "a7cb9e3f-f8f1-47cc-96ae-f7ead743f517"
      },
      "source": [
        "b = np.random.randn(4,3)\n",
        "b"
      ],
      "execution_count": null,
      "outputs": [
        {
          "output_type": "execute_result",
          "data": {
            "text/plain": [
              "array([[-0.52817175, -1.07296862,  0.86540763],\n",
              "       [-2.3015387 ,  1.74481176, -0.7612069 ],\n",
              "       [ 0.3190391 , -0.24937038,  1.46210794],\n",
              "       [-2.06014071, -0.3224172 , -0.38405435]])"
            ]
          },
          "metadata": {},
          "execution_count": 53
        }
      ]
    },
    {
      "cell_type": "code",
      "source": [
        "np.ndim(a)"
      ],
      "metadata": {
        "colab": {
          "base_uri": "https://localhost:8080/"
        },
        "id": "YZPcgsKKcFYi",
        "outputId": "e3e37452-e26e-4744-b930-d98dfe7511cb"
      },
      "execution_count": null,
      "outputs": [
        {
          "output_type": "execute_result",
          "data": {
            "text/plain": [
              "1"
            ]
          },
          "metadata": {},
          "execution_count": 54
        }
      ]
    },
    {
      "cell_type": "code",
      "source": [
        "np.ndim(b)"
      ],
      "metadata": {
        "colab": {
          "base_uri": "https://localhost:8080/"
        },
        "id": "OV_48VdEcLWI",
        "outputId": "ec437b9c-00bb-4166-8f93-1aea503257b9"
      },
      "execution_count": null,
      "outputs": [
        {
          "output_type": "execute_result",
          "data": {
            "text/plain": [
              "2"
            ]
          },
          "metadata": {},
          "execution_count": 55
        }
      ]
    },
    {
      "cell_type": "code",
      "metadata": {
        "id": "DI6FX5lgUORu",
        "colab": {
          "base_uri": "https://localhost:8080/"
        },
        "outputId": "5f63687e-caf6-4e8e-96ed-f5306963548d"
      },
      "source": [
        "print(a.shape)"
      ],
      "execution_count": null,
      "outputs": [
        {
          "output_type": "stream",
          "name": "stdout",
          "text": [
            "(20,)\n"
          ]
        }
      ]
    },
    {
      "cell_type": "code",
      "source": [
        "print(b.shape)"
      ],
      "metadata": {
        "colab": {
          "base_uri": "https://localhost:8080/"
        },
        "id": "dbMvDXhUcbB5",
        "outputId": "64c32284-5da4-4f04-bb35-d275cfd798bc"
      },
      "execution_count": null,
      "outputs": [
        {
          "output_type": "stream",
          "name": "stdout",
          "text": [
            "(4, 3)\n"
          ]
        }
      ]
    },
    {
      "cell_type": "code",
      "source": [
        "c = np.random.randn(5,2)\n",
        "c"
      ],
      "metadata": {
        "colab": {
          "base_uri": "https://localhost:8080/"
        },
        "id": "F79iZ2wlcn9H",
        "outputId": "34200b87-1650-495e-ea13-9d7fbb7aceaf"
      },
      "execution_count": null,
      "outputs": [
        {
          "output_type": "execute_result",
          "data": {
            "text/plain": [
              "array([[ 1.13376944, -1.09989127],\n",
              "       [-0.17242821, -0.87785842],\n",
              "       [ 0.04221375,  0.58281521],\n",
              "       [-1.10061918,  1.14472371],\n",
              "       [ 0.90159072,  0.50249434]])"
            ]
          },
          "metadata": {},
          "execution_count": 58
        }
      ]
    },
    {
      "cell_type": "code",
      "source": [
        "np.ndim(c)"
      ],
      "metadata": {
        "colab": {
          "base_uri": "https://localhost:8080/"
        },
        "id": "nyxpBsknctUD",
        "outputId": "9b85541f-a897-4456-8d1e-7d343739aec5"
      },
      "execution_count": null,
      "outputs": [
        {
          "output_type": "execute_result",
          "data": {
            "text/plain": [
              "2"
            ]
          },
          "metadata": {},
          "execution_count": 59
        }
      ]
    },
    {
      "cell_type": "code",
      "source": [
        "c.shape"
      ],
      "metadata": {
        "colab": {
          "base_uri": "https://localhost:8080/"
        },
        "id": "gE6JWob2cwMj",
        "outputId": "477f2dbd-36b1-4784-bd46-ddf937a54bdb"
      },
      "execution_count": null,
      "outputs": [
        {
          "output_type": "execute_result",
          "data": {
            "text/plain": [
              "(5, 2)"
            ]
          },
          "metadata": {},
          "execution_count": 60
        }
      ]
    },
    {
      "cell_type": "markdown",
      "metadata": {
        "id": "g_0JNpyPUORv"
      },
      "source": [
        "### Reshape"
      ]
    },
    {
      "cell_type": "code",
      "metadata": {
        "id": "WfBwenZQUORv",
        "colab": {
          "base_uri": "https://localhost:8080/"
        },
        "outputId": "56f80ce5-8160-4594-ddeb-d64dd1f812ec"
      },
      "source": [
        "c = a.reshape(4,5)\n",
        "print(c.shape)\n",
        "c"
      ],
      "execution_count": null,
      "outputs": [
        {
          "output_type": "stream",
          "name": "stdout",
          "text": [
            "(4, 5)\n"
          ]
        },
        {
          "output_type": "execute_result",
          "data": {
            "text/plain": [
              "array([[ 0,  1,  2,  3,  4],\n",
              "       [ 5,  6,  7,  8,  9],\n",
              "       [10, 11, 12, 13, 14],\n",
              "       [15, 16, 17, 18, 19]])"
            ]
          },
          "metadata": {},
          "execution_count": 64
        }
      ]
    },
    {
      "cell_type": "markdown",
      "metadata": {
        "id": "LkV857oTUORx"
      },
      "source": [
        "### max, min, argmax and argmin"
      ]
    },
    {
      "cell_type": "code",
      "metadata": {
        "id": "eFjdk-mpUORx",
        "colab": {
          "base_uri": "https://localhost:8080/"
        },
        "outputId": "bae19741-4ea2-465f-dd47-a39525aa098b"
      },
      "source": [
        "b = np.random.rand(3,4)\n",
        "b"
      ],
      "execution_count": null,
      "outputs": [
        {
          "output_type": "execute_result",
          "data": {
            "text/plain": [
              "array([[0.01828828, 0.75014431, 0.98886109, 0.74816565],\n",
              "       [0.28044399, 0.78927933, 0.10322601, 0.44789353],\n",
              "       [0.9085955 , 0.29361415, 0.28777534, 0.13002857]])"
            ]
          },
          "metadata": {},
          "execution_count": 65
        }
      ]
    },
    {
      "cell_type": "code",
      "metadata": {
        "id": "8RbTBwwMUORy",
        "colab": {
          "base_uri": "https://localhost:8080/"
        },
        "outputId": "b0045bc6-c6e6-4bf7-9c79-3b1febabc2da"
      },
      "source": [
        "b.max()"
      ],
      "execution_count": null,
      "outputs": [
        {
          "output_type": "execute_result",
          "data": {
            "text/plain": [
              "0.9888610889064947"
            ]
          },
          "metadata": {},
          "execution_count": 66
        }
      ]
    },
    {
      "cell_type": "code",
      "metadata": {
        "id": "z8tOB8alUOR0",
        "colab": {
          "base_uri": "https://localhost:8080/"
        },
        "outputId": "c6a2f46a-ceba-4435-9726-687dfa311451"
      },
      "source": [
        "b.argmax()"
      ],
      "execution_count": null,
      "outputs": [
        {
          "output_type": "execute_result",
          "data": {
            "text/plain": [
              "2"
            ]
          },
          "metadata": {},
          "execution_count": 67
        }
      ]
    },
    {
      "cell_type": "code",
      "metadata": {
        "id": "nx12P_gnUOR2",
        "colab": {
          "base_uri": "https://localhost:8080/"
        },
        "outputId": "841c6838-2cca-45bf-e3ae-3306f582c891"
      },
      "source": [
        "print(b.min())\n",
        "print(b.argmin())"
      ],
      "execution_count": null,
      "outputs": [
        {
          "output_type": "stream",
          "name": "stdout",
          "text": [
            "0.018288277344191806\n",
            "0\n"
          ]
        }
      ]
    },
    {
      "cell_type": "markdown",
      "metadata": {
        "id": "3TiVKbj-UOR3"
      },
      "source": [
        "### Array data type"
      ]
    },
    {
      "cell_type": "code",
      "metadata": {
        "id": "c-XLnQOrUOR4",
        "colab": {
          "base_uri": "https://localhost:8080/"
        },
        "outputId": "8889d0ef-6c6f-45fb-fd73-e21527e3f617"
      },
      "source": [
        "a"
      ],
      "execution_count": null,
      "outputs": [
        {
          "output_type": "execute_result",
          "data": {
            "text/plain": [
              "array([ 0,  1,  2,  3,  4,  5,  6,  7,  8,  9, 10, 11, 12, 13, 14, 15, 16,\n",
              "       17, 18, 19])"
            ]
          },
          "metadata": {},
          "execution_count": 71
        }
      ]
    },
    {
      "cell_type": "code",
      "metadata": {
        "id": "FY9iCHngUOR6",
        "colab": {
          "base_uri": "https://localhost:8080/"
        },
        "outputId": "42a2b2a7-866c-4afc-e848-5492b64d1e78"
      },
      "source": [
        "a.dtype"
      ],
      "execution_count": null,
      "outputs": [
        {
          "output_type": "execute_result",
          "data": {
            "text/plain": [
              "dtype('int64')"
            ]
          },
          "metadata": {},
          "execution_count": 69
        }
      ]
    },
    {
      "cell_type": "code",
      "metadata": {
        "id": "44R3R5qUUOR7",
        "colab": {
          "base_uri": "https://localhost:8080/"
        },
        "outputId": "fcacd03b-ab85-48ac-c555-6cd8e7cab783"
      },
      "source": [
        "b"
      ],
      "execution_count": null,
      "outputs": [
        {
          "output_type": "execute_result",
          "data": {
            "text/plain": [
              "array([[0.01828828, 0.75014431, 0.98886109, 0.74816565],\n",
              "       [0.28044399, 0.78927933, 0.10322601, 0.44789353],\n",
              "       [0.9085955 , 0.29361415, 0.28777534, 0.13002857]])"
            ]
          },
          "metadata": {},
          "execution_count": 70
        }
      ]
    },
    {
      "cell_type": "code",
      "metadata": {
        "id": "NBr6uQ5DUOR9"
      },
      "source": [
        "b.dtype"
      ],
      "execution_count": null,
      "outputs": []
    },
    {
      "cell_type": "code",
      "metadata": {
        "id": "mvXP-faMUOR_",
        "colab": {
          "base_uri": "https://localhost:8080/"
        },
        "outputId": "525c2675-fbd7-40ed-ccd0-946cf28e59a7"
      },
      "source": [
        "a.astype('float32')"
      ],
      "execution_count": null,
      "outputs": [
        {
          "output_type": "execute_result",
          "data": {
            "text/plain": [
              "array([ 0.,  1.,  2.,  3.,  4.,  5.,  6.,  7.,  8.,  9., 10., 11., 12.,\n",
              "       13., 14., 15., 16., 17., 18., 19.], dtype=float32)"
            ]
          },
          "metadata": {},
          "execution_count": 72
        }
      ]
    },
    {
      "cell_type": "markdown",
      "metadata": {
        "id": "9hLwAEbdUOSB"
      },
      "source": [
        "## <font color='green'>4. Indexing and Slicing</font>"
      ]
    },
    {
      "cell_type": "markdown",
      "metadata": {
        "id": "1Dc7An27UOSC"
      },
      "source": [
        "#### Using brackets"
      ]
    },
    {
      "cell_type": "code",
      "metadata": {
        "id": "gT7yEHBvUOSC",
        "colab": {
          "base_uri": "https://localhost:8080/"
        },
        "outputId": "95a8e17b-cc4d-4453-d4ae-5f703e0156f1"
      },
      "source": [
        "a = np.arange(11,25)\n",
        "a"
      ],
      "execution_count": null,
      "outputs": [
        {
          "output_type": "execute_result",
          "data": {
            "text/plain": [
              "array([11, 12, 13, 14, 15, 16, 17, 18, 19, 20, 21, 22, 23, 24])"
            ]
          },
          "metadata": {},
          "execution_count": 73
        }
      ]
    },
    {
      "cell_type": "code",
      "metadata": {
        "id": "NjFBAkiYUOSD",
        "colab": {
          "base_uri": "https://localhost:8080/"
        },
        "outputId": "d053eed2-5b7e-47e3-e89a-da2d5e5d8166"
      },
      "source": [
        "a[1]"
      ],
      "execution_count": null,
      "outputs": [
        {
          "output_type": "execute_result",
          "data": {
            "text/plain": [
              "12"
            ]
          },
          "metadata": {},
          "execution_count": 80
        }
      ]
    },
    {
      "cell_type": "code",
      "metadata": {
        "id": "xjewqWMQUOSF",
        "colab": {
          "base_uri": "https://localhost:8080/"
        },
        "outputId": "65d528dc-7d77-4fe9-bb9c-0061d8041627"
      },
      "source": [
        "a[2:6]"
      ],
      "execution_count": null,
      "outputs": [
        {
          "output_type": "execute_result",
          "data": {
            "text/plain": [
              "array([13, 14, 15, 16])"
            ]
          },
          "metadata": {},
          "execution_count": 75
        }
      ]
    },
    {
      "cell_type": "code",
      "metadata": {
        "id": "NGb_1KpAUOSI",
        "colab": {
          "base_uri": "https://localhost:8080/"
        },
        "outputId": "8955162d-408a-4e27-b6fc-379a5d3ffd1c"
      },
      "source": [
        "#Specific elements\n",
        "a[[0,3,6]]"
      ],
      "execution_count": null,
      "outputs": [
        {
          "output_type": "execute_result",
          "data": {
            "text/plain": [
              "array([11, 14, 17])"
            ]
          },
          "metadata": {},
          "execution_count": 76
        }
      ]
    },
    {
      "cell_type": "code",
      "metadata": {
        "id": "qfnasQ-jUOSJ",
        "colab": {
          "base_uri": "https://localhost:8080/"
        },
        "outputId": "215563ae-c13a-4430-9e1c-99f98f7069d4"
      },
      "source": [
        "#Updating specific elements\n",
        "a[3:5] = 100\n",
        "a"
      ],
      "execution_count": null,
      "outputs": [
        {
          "output_type": "execute_result",
          "data": {
            "text/plain": [
              "array([ 11,  12,  13, 100, 100,  16,  17,  18,  19,  20,  21,  22,  23,\n",
              "        24])"
            ]
          },
          "metadata": {},
          "execution_count": 78
        }
      ]
    },
    {
      "cell_type": "markdown",
      "metadata": {
        "id": "IAuw6OfsUOSK"
      },
      "source": [
        "### Two dimensional array indexing and slicing"
      ]
    },
    {
      "cell_type": "code",
      "metadata": {
        "id": "yTy-XgIvUOSL",
        "colab": {
          "base_uri": "https://localhost:8080/"
        },
        "outputId": "4f05abe5-f807-4681-f216-8436fe66dac6"
      },
      "source": [
        "b = np.array([[10,32,6,7,8], [90, 45, 32 , 89, 50],\n",
        "              [33, 66, 99, 22, 55], [23, 56, 98, 45, 65]])\n",
        "b"
      ],
      "execution_count": null,
      "outputs": [
        {
          "output_type": "execute_result",
          "data": {
            "text/plain": [
              "array([[10, 32,  6,  7,  8],\n",
              "       [90, 45, 32, 89, 50],\n",
              "       [33, 66, 99, 22, 55],\n",
              "       [23, 56, 98, 45, 65]])"
            ]
          },
          "metadata": {},
          "execution_count": 79
        }
      ]
    },
    {
      "cell_type": "code",
      "metadata": {
        "id": "y4VOFSPCUOSM",
        "colab": {
          "base_uri": "https://localhost:8080/"
        },
        "outputId": "d910c1b4-3144-41f0-e16e-affbb483a749"
      },
      "source": [
        "#indexing row\n",
        "b[1]"
      ],
      "execution_count": null,
      "outputs": [
        {
          "output_type": "execute_result",
          "data": {
            "text/plain": [
              "array([90, 45, 32, 89, 50])"
            ]
          },
          "metadata": {},
          "execution_count": 81
        }
      ]
    },
    {
      "cell_type": "code",
      "metadata": {
        "id": "9bVvBqX1UOSN",
        "colab": {
          "base_uri": "https://localhost:8080/"
        },
        "outputId": "901aacf8-e36a-4e86-f238-d95da37fd760"
      },
      "source": [
        "#Specific element\n",
        "b[2][3]"
      ],
      "execution_count": null,
      "outputs": [
        {
          "output_type": "execute_result",
          "data": {
            "text/plain": [
              "22"
            ]
          },
          "metadata": {},
          "execution_count": 82
        }
      ]
    },
    {
      "cell_type": "code",
      "metadata": {
        "id": "GTllA0xIUOSO"
      },
      "source": [
        "#Same as above\n",
        "b[2,3]"
      ],
      "execution_count": null,
      "outputs": []
    },
    {
      "cell_type": "code",
      "source": [
        "b[:3]"
      ],
      "metadata": {
        "colab": {
          "base_uri": "https://localhost:8080/"
        },
        "id": "EOlQneDnfWEn",
        "outputId": "a5368b61-0a05-4032-b341-02d71e3ad965"
      },
      "execution_count": null,
      "outputs": [
        {
          "output_type": "execute_result",
          "data": {
            "text/plain": [
              "array([[10, 32,  6,  7,  8],\n",
              "       [90, 45, 32, 89, 50],\n",
              "       [33, 66, 99, 22, 55]])"
            ]
          },
          "metadata": {},
          "execution_count": 84
        }
      ]
    },
    {
      "cell_type": "code",
      "metadata": {
        "id": "lc2k3YGRUOSS",
        "colab": {
          "base_uri": "https://localhost:8080/"
        },
        "outputId": "3a044b4e-b985-4aa0-f454-d0b324c2cbf4"
      },
      "source": [
        "#Specific rows and columns\n",
        "b\n",
        "b[:2,2:]"
      ],
      "execution_count": null,
      "outputs": [
        {
          "output_type": "execute_result",
          "data": {
            "text/plain": [
              "array([[ 6,  7,  8],\n",
              "       [32, 89, 50]])"
            ]
          },
          "metadata": {},
          "execution_count": 88
        }
      ]
    },
    {
      "cell_type": "markdown",
      "metadata": {
        "id": "RhNjcR52UOSU"
      },
      "source": [
        "### Custom indexing"
      ]
    },
    {
      "cell_type": "code",
      "metadata": {
        "id": "jYOWVLxcUOSU",
        "colab": {
          "base_uri": "https://localhost:8080/"
        },
        "outputId": "6773faea-3dee-4445-8839-5a337d3b126d"
      },
      "source": [
        "b = np.array([[10,32,6,7,8], [90, 45, 32 , 89, 50],\n",
        "              [33, 66, 99, 22, 55], [23, 56, 98, 45, 65]])\n",
        "b"
      ],
      "execution_count": null,
      "outputs": [
        {
          "output_type": "execute_result",
          "data": {
            "text/plain": [
              "array([[10, 32,  6,  7,  8],\n",
              "       [90, 45, 32, 89, 50],\n",
              "       [33, 66, 99, 22, 55],\n",
              "       [23, 56, 98, 45, 65]])"
            ]
          },
          "metadata": {},
          "execution_count": 89
        }
      ]
    },
    {
      "cell_type": "code",
      "metadata": {
        "id": "tpWwELUZUOSV",
        "colab": {
          "base_uri": "https://localhost:8080/"
        },
        "outputId": "f2002401-1212-4bb1-a951-903cd3412d27"
      },
      "source": [
        "b[:2,(1,3)] #All Rows, (1 Coloumn, 3 Coloumn)"
      ],
      "execution_count": null,
      "outputs": [
        {
          "output_type": "execute_result",
          "data": {
            "text/plain": [
              "array([[32,  7],\n",
              "       [45, 89]])"
            ]
          },
          "metadata": {},
          "execution_count": 91
        }
      ]
    },
    {
      "cell_type": "markdown",
      "metadata": {
        "id": "Gn8ucEHNUOSW"
      },
      "source": [
        "### Subset"
      ]
    },
    {
      "cell_type": "code",
      "metadata": {
        "id": "UERbJKVkUOSW",
        "colab": {
          "base_uri": "https://localhost:8080/"
        },
        "outputId": "c3d041b1-0b2a-4623-fd41-386ab4af200a"
      },
      "source": [
        "b"
      ],
      "execution_count": null,
      "outputs": [
        {
          "output_type": "execute_result",
          "data": {
            "text/plain": [
              "array([[10, 32,  6,  7,  8],\n",
              "       [90, 45, 32, 89, 50],\n",
              "       [33, 66, 99, 22, 55],\n",
              "       [23, 56, 98, 45, 65]])"
            ]
          },
          "metadata": {},
          "execution_count": 92
        }
      ]
    },
    {
      "cell_type": "code",
      "metadata": {
        "id": "nfF7KaFSUOSX",
        "colab": {
          "base_uri": "https://localhost:8080/"
        },
        "outputId": "825deabd-6b6a-4c61-cc02-a1674d3d52c2"
      },
      "source": [
        "c = b[:2,1:]\n",
        "c"
      ],
      "execution_count": null,
      "outputs": [
        {
          "output_type": "execute_result",
          "data": {
            "text/plain": [
              "array([[32,  6,  7,  8],\n",
              "       [45, 32, 89, 50]])"
            ]
          },
          "metadata": {},
          "execution_count": 93
        }
      ]
    },
    {
      "cell_type": "code",
      "metadata": {
        "id": "ducDm2zSUOSY",
        "colab": {
          "base_uri": "https://localhost:8080/"
        },
        "outputId": "b9e1207e-85b3-4816-8080-d1af51f09c85"
      },
      "source": [
        "c[:] = 200\n",
        "c"
      ],
      "execution_count": null,
      "outputs": [
        {
          "output_type": "execute_result",
          "data": {
            "text/plain": [
              "array([[200, 200, 200, 200],\n",
              "       [200, 200, 200, 200]])"
            ]
          },
          "metadata": {},
          "execution_count": 94
        }
      ]
    },
    {
      "cell_type": "code",
      "metadata": {
        "id": "UKnbVealUOSa",
        "colab": {
          "base_uri": "https://localhost:8080/"
        },
        "outputId": "42f6d34b-9005-409e-cb97-7e2edc5e90eb"
      },
      "source": [
        "b"
      ],
      "execution_count": null,
      "outputs": [
        {
          "output_type": "execute_result",
          "data": {
            "text/plain": [
              "array([[ 10, 200, 200, 200, 200],\n",
              "       [ 90, 200, 200, 200, 200],\n",
              "       [ 33,  66,  99,  22,  55],\n",
              "       [ 23,  56,  98,  45,  65]])"
            ]
          },
          "metadata": {},
          "execution_count": 95
        }
      ]
    },
    {
      "cell_type": "markdown",
      "metadata": {
        "id": "LNVKqhNXUOSb"
      },
      "source": [
        "### Copy"
      ]
    },
    {
      "cell_type": "code",
      "metadata": {
        "id": "7yaFYa8SUOSc",
        "colab": {
          "base_uri": "https://localhost:8080/"
        },
        "outputId": "f592f228-1a78-440c-a78b-b04b257e638f"
      },
      "source": [
        "b = np.array([[10,32,6,7,8], [90, 45, 32 , 89, 50],\n",
        "              [33, 66, 99, 22, 55], [23, 56, 98, 45, 65]])\n",
        "b"
      ],
      "execution_count": null,
      "outputs": [
        {
          "output_type": "execute_result",
          "data": {
            "text/plain": [
              "array([[10, 32,  6,  7,  8],\n",
              "       [90, 45, 32, 89, 50],\n",
              "       [33, 66, 99, 22, 55],\n",
              "       [23, 56, 98, 45, 65]])"
            ]
          },
          "metadata": {},
          "execution_count": 96
        }
      ]
    },
    {
      "cell_type": "code",
      "metadata": {
        "id": "OSF9oKlsUOSd",
        "colab": {
          "base_uri": "https://localhost:8080/"
        },
        "outputId": "71ad71b8-d4ec-4d5b-a293-4a5ea5eadfb9"
      },
      "source": [
        "d = b[:2,1:].copy()\n",
        "d"
      ],
      "execution_count": null,
      "outputs": [
        {
          "output_type": "execute_result",
          "data": {
            "text/plain": [
              "array([[32,  6,  7,  8],\n",
              "       [45, 32, 89, 50]])"
            ]
          },
          "metadata": {},
          "execution_count": 97
        }
      ]
    },
    {
      "cell_type": "code",
      "metadata": {
        "id": "hqSS0H3EUOSe",
        "colab": {
          "base_uri": "https://localhost:8080/"
        },
        "outputId": "1bea668a-a538-4d46-c222-1ab701fabcf2"
      },
      "source": [
        "d[:] = 500\n",
        "d"
      ],
      "execution_count": null,
      "outputs": [
        {
          "output_type": "execute_result",
          "data": {
            "text/plain": [
              "array([[500, 500, 500, 500],\n",
              "       [500, 500, 500, 500]])"
            ]
          },
          "metadata": {},
          "execution_count": 98
        }
      ]
    },
    {
      "cell_type": "code",
      "metadata": {
        "id": "XV_0sOGfUOSf",
        "colab": {
          "base_uri": "https://localhost:8080/"
        },
        "outputId": "f484b07d-ee4a-4246-ff61-6aa9a713858e"
      },
      "source": [
        "b"
      ],
      "execution_count": null,
      "outputs": [
        {
          "output_type": "execute_result",
          "data": {
            "text/plain": [
              "array([[10, 32,  6,  7,  8],\n",
              "       [90, 45, 32, 89, 50],\n",
              "       [33, 66, 99, 22, 55],\n",
              "       [23, 56, 98, 45, 65]])"
            ]
          },
          "metadata": {},
          "execution_count": 99
        }
      ]
    },
    {
      "cell_type": "markdown",
      "metadata": {
        "id": "Eo_I0fKJUOSg"
      },
      "source": [
        "### Selection"
      ]
    },
    {
      "cell_type": "code",
      "metadata": {
        "id": "-cJn2xMKUOSg",
        "colab": {
          "base_uri": "https://localhost:8080/"
        },
        "outputId": "561e17e6-0a70-4caf-d1c8-7c419e1c7239"
      },
      "source": [
        "a = np.arange(30, 45)\n",
        "a"
      ],
      "execution_count": null,
      "outputs": [
        {
          "output_type": "execute_result",
          "data": {
            "text/plain": [
              "array([30, 31, 32, 33, 34, 35, 36, 37, 38, 39, 40, 41, 42, 43, 44])"
            ]
          },
          "metadata": {},
          "execution_count": 100
        }
      ]
    },
    {
      "cell_type": "code",
      "metadata": {
        "id": "dcq2td2pUOSi",
        "colab": {
          "base_uri": "https://localhost:8080/"
        },
        "outputId": "d9c99164-dbc3-486a-a46e-6ef03858495a"
      },
      "source": [
        "b = a < 40\n",
        "b"
      ],
      "execution_count": null,
      "outputs": [
        {
          "output_type": "execute_result",
          "data": {
            "text/plain": [
              "array([ True,  True,  True,  True,  True,  True,  True,  True,  True,\n",
              "        True, False, False, False, False, False])"
            ]
          },
          "metadata": {},
          "execution_count": 103
        }
      ]
    },
    {
      "cell_type": "code",
      "metadata": {
        "id": "ZJ9LqvgEUOSj",
        "colab": {
          "base_uri": "https://localhost:8080/"
        },
        "outputId": "71142085-c590-49e3-d3fd-47e663d23752"
      },
      "source": [
        "a[b]"
      ],
      "execution_count": null,
      "outputs": [
        {
          "output_type": "execute_result",
          "data": {
            "text/plain": [
              "array([30, 31, 32, 33, 34, 35, 36, 37, 38, 39])"
            ]
          },
          "metadata": {},
          "execution_count": 104
        }
      ]
    },
    {
      "cell_type": "code",
      "metadata": {
        "id": "lQW3yIY7UOSk",
        "colab": {
          "base_uri": "https://localhost:8080/"
        },
        "outputId": "7586f3cf-3516-4d58-d890-91ebd2e68c01"
      },
      "source": [
        "c = a[a < 35]\n",
        "c"
      ],
      "execution_count": null,
      "outputs": [
        {
          "output_type": "execute_result",
          "data": {
            "text/plain": [
              "array([30, 31, 32, 33, 34])"
            ]
          },
          "metadata": {},
          "execution_count": 105
        }
      ]
    },
    {
      "cell_type": "markdown",
      "metadata": {
        "id": "-Zcz2pfPUOSl"
      },
      "source": [
        "## <font color='orange'>5. NumPy Operations</font>"
      ]
    },
    {
      "cell_type": "markdown",
      "metadata": {
        "id": "Mka1iZqSUOSl"
      },
      "source": [
        "### Arithmatic operations"
      ]
    },
    {
      "cell_type": "code",
      "metadata": {
        "id": "DGQKBnjmUOSl",
        "colab": {
          "base_uri": "https://localhost:8080/"
        },
        "outputId": "fb0cdfe4-b840-44b2-cddf-14351131af95"
      },
      "source": [
        "a = np.arange(10, 25)\n",
        "a"
      ],
      "execution_count": null,
      "outputs": [
        {
          "output_type": "execute_result",
          "data": {
            "text/plain": [
              "array([10, 11, 12, 13, 14, 15, 16, 17, 18, 19, 20, 21, 22, 23, 24])"
            ]
          },
          "metadata": {},
          "execution_count": 106
        }
      ]
    },
    {
      "cell_type": "code",
      "metadata": {
        "id": "L4ppMmXKUOSm",
        "colab": {
          "base_uri": "https://localhost:8080/"
        },
        "outputId": "9f728be7-9ba6-4248-abe4-4e518b02b9df"
      },
      "source": [
        "a + a"
      ],
      "execution_count": null,
      "outputs": [
        {
          "output_type": "execute_result",
          "data": {
            "text/plain": [
              "array([20, 22, 24, 26, 28, 30, 32, 34, 36, 38, 40, 42, 44, 46, 48])"
            ]
          },
          "metadata": {},
          "execution_count": 107
        }
      ]
    },
    {
      "cell_type": "code",
      "metadata": {
        "id": "RlomT3CGUOSn",
        "colab": {
          "base_uri": "https://localhost:8080/"
        },
        "outputId": "84349d5f-1c20-4f40-cf4a-f7b6f11cdea0"
      },
      "source": [
        "a - a"
      ],
      "execution_count": null,
      "outputs": [
        {
          "output_type": "execute_result",
          "data": {
            "text/plain": [
              "array([0, 0, 0, 0, 0, 0, 0, 0, 0, 0, 0, 0, 0, 0, 0])"
            ]
          },
          "metadata": {},
          "execution_count": 108
        }
      ]
    },
    {
      "cell_type": "code",
      "metadata": {
        "id": "_qRtWeXmUOSq"
      },
      "source": [
        "a * a"
      ],
      "execution_count": null,
      "outputs": []
    },
    {
      "cell_type": "code",
      "metadata": {
        "id": "3TEcqfabUOSr"
      },
      "source": [
        "a / a"
      ],
      "execution_count": null,
      "outputs": []
    },
    {
      "cell_type": "code",
      "metadata": {
        "id": "PZLh2k72UOSs",
        "colab": {
          "base_uri": "https://localhost:8080/"
        },
        "outputId": "bf0cf350-e9c2-4f62-e268-2b21d188c4c1"
      },
      "source": [
        "a ** 2"
      ],
      "execution_count": null,
      "outputs": [
        {
          "output_type": "execute_result",
          "data": {
            "text/plain": [
              "array([100, 121, 144, 169, 196, 225, 256, 289, 324, 361, 400, 441, 484,\n",
              "       529, 576])"
            ]
          },
          "metadata": {},
          "execution_count": 109
        }
      ]
    },
    {
      "cell_type": "code",
      "metadata": {
        "id": "opbUlqAKUOSt",
        "colab": {
          "base_uri": "https://localhost:8080/"
        },
        "outputId": "c17641b0-5015-421b-f24a-7f0c1e31e4b6"
      },
      "source": [
        "100/ a"
      ],
      "execution_count": null,
      "outputs": [
        {
          "output_type": "execute_result",
          "data": {
            "text/plain": [
              "array([10.        ,  9.09090909,  8.33333333,  7.69230769,  7.14285714,\n",
              "        6.66666667,  6.25      ,  5.88235294,  5.55555556,  5.26315789,\n",
              "        5.        ,  4.76190476,  4.54545455,  4.34782609,  4.16666667])"
            ]
          },
          "metadata": {},
          "execution_count": 110
        }
      ]
    },
    {
      "cell_type": "markdown",
      "metadata": {
        "id": "GJULDP6AUOSu"
      },
      "source": [
        "### Universal operations"
      ]
    },
    {
      "cell_type": "code",
      "metadata": {
        "id": "UUo3Yh6FUOSu",
        "colab": {
          "base_uri": "https://localhost:8080/"
        },
        "outputId": "5462eb0e-9a47-4206-f80f-d1515f690fa4"
      },
      "source": [
        "a = np.arange(10, 30, 3)\n",
        "a"
      ],
      "execution_count": null,
      "outputs": [
        {
          "output_type": "execute_result",
          "data": {
            "text/plain": [
              "array([10, 13, 16, 19, 22, 25, 28])"
            ]
          },
          "metadata": {},
          "execution_count": 111
        }
      ]
    },
    {
      "cell_type": "code",
      "metadata": {
        "id": "iek22j9BUOSv",
        "colab": {
          "base_uri": "https://localhost:8080/"
        },
        "outputId": "3478d5b2-2a83-4c84-b78c-7bf444964abd"
      },
      "source": [
        "np.sqrt(a)  #Square root of each element"
      ],
      "execution_count": null,
      "outputs": [
        {
          "output_type": "execute_result",
          "data": {
            "text/plain": [
              "array([3.16227766, 3.60555128, 4.        , 4.35889894, 4.69041576,\n",
              "       5.        , 5.29150262])"
            ]
          },
          "metadata": {},
          "execution_count": 112
        }
      ]
    },
    {
      "cell_type": "code",
      "metadata": {
        "id": "U_aGu143UOSw",
        "colab": {
          "base_uri": "https://localhost:8080/"
        },
        "outputId": "3ccbec0d-98e2-405b-d022-e16f44195979"
      },
      "source": [
        "np.exp(a)  #Exponent of each element"
      ],
      "execution_count": null,
      "outputs": [
        {
          "output_type": "execute_result",
          "data": {
            "text/plain": [
              "array([2.20264658e+04, 4.42413392e+05, 8.88611052e+06, 1.78482301e+08,\n",
              "       3.58491285e+09, 7.20048993e+10, 1.44625706e+12])"
            ]
          },
          "metadata": {},
          "execution_count": 113
        }
      ]
    },
    {
      "cell_type": "code",
      "metadata": {
        "id": "Ya0AtyWMUOSy",
        "colab": {
          "base_uri": "https://localhost:8080/"
        },
        "outputId": "c82d2146-bc11-4361-aeb0-e435e9cc4c11"
      },
      "source": [
        "np.square(a) #Square of each element"
      ],
      "execution_count": null,
      "outputs": [
        {
          "output_type": "execute_result",
          "data": {
            "text/plain": [
              "array([100, 169, 256, 361, 484, 625, 784])"
            ]
          },
          "metadata": {},
          "execution_count": 114
        }
      ]
    },
    {
      "cell_type": "code",
      "metadata": {
        "id": "QF0Of0NcUOS1",
        "colab": {
          "base_uri": "https://localhost:8080/"
        },
        "outputId": "c2806d6b-15e3-47d0-8fdd-556df8b073f1"
      },
      "source": [
        "np.sin(a)  #Trignometric sine"
      ],
      "execution_count": null,
      "outputs": [
        {
          "output_type": "execute_result",
          "data": {
            "text/plain": [
              "array([-0.54402111,  0.42016704, -0.28790332,  0.14987721, -0.00885131,\n",
              "       -0.13235175,  0.27090579])"
            ]
          },
          "metadata": {},
          "execution_count": 115
        }
      ]
    },
    {
      "cell_type": "code",
      "metadata": {
        "id": "sVcW-9yFUOS2",
        "colab": {
          "base_uri": "https://localhost:8080/"
        },
        "outputId": "f04aa1ec-7db2-441f-b52e-c90599e78202"
      },
      "source": [
        "np.log(a)  #log"
      ],
      "execution_count": null,
      "outputs": [
        {
          "output_type": "execute_result",
          "data": {
            "text/plain": [
              "array([2.30258509, 2.56494936, 2.77258872, 2.94443898, 3.09104245,\n",
              "       3.21887582, 3.33220451])"
            ]
          },
          "metadata": {},
          "execution_count": 116
        }
      ]
    },
    {
      "cell_type": "markdown",
      "metadata": {
        "id": "cLN0YFzWUOS2"
      },
      "source": [
        "### Universal operations. . ."
      ]
    },
    {
      "cell_type": "code",
      "metadata": {
        "id": "3-cQH4dqUOS3",
        "colab": {
          "base_uri": "https://localhost:8080/"
        },
        "outputId": "dcb31b42-f7be-4fd6-bc23-39a47558ec77"
      },
      "source": [
        "a = np.random.rand(4,5)\n",
        "a"
      ],
      "execution_count": null,
      "outputs": [
        {
          "output_type": "execute_result",
          "data": {
            "text/plain": [
              "array([[0.01936696, 0.67883553, 0.21162812, 0.26554666, 0.49157316],\n",
              "       [0.05336255, 0.57411761, 0.14672857, 0.58930554, 0.69975836],\n",
              "       [0.10233443, 0.41405599, 0.69440016, 0.41417927, 0.04995346],\n",
              "       [0.53589641, 0.66379465, 0.51488911, 0.94459476, 0.58655504]])"
            ]
          },
          "metadata": {},
          "execution_count": 117
        }
      ]
    },
    {
      "cell_type": "code",
      "metadata": {
        "id": "F2YGdmC0UOS4",
        "colab": {
          "base_uri": "https://localhost:8080/"
        },
        "outputId": "62fe5bae-f9e0-4226-8736-edbc66f525c2"
      },
      "source": [
        "np.round(a,2)  #rounding to 2 decimal places"
      ],
      "execution_count": null,
      "outputs": [
        {
          "output_type": "execute_result",
          "data": {
            "text/plain": [
              "array([[0.02, 0.68, 0.21, 0.27, 0.49],\n",
              "       [0.05, 0.57, 0.15, 0.59, 0.7 ],\n",
              "       [0.1 , 0.41, 0.69, 0.41, 0.05],\n",
              "       [0.54, 0.66, 0.51, 0.94, 0.59]])"
            ]
          },
          "metadata": {},
          "execution_count": 118
        }
      ]
    },
    {
      "cell_type": "code",
      "metadata": {
        "id": "Gh5EpsOjUOS5",
        "colab": {
          "base_uri": "https://localhost:8080/"
        },
        "outputId": "65aa2da2-b197-4754-ae24-1b3c11284b96"
      },
      "source": [
        "np.round(a)  #rounding to 0 decimal places"
      ],
      "execution_count": null,
      "outputs": [
        {
          "output_type": "execute_result",
          "data": {
            "text/plain": [
              "array([[0., 1., 0., 0., 0.],\n",
              "       [0., 1., 0., 1., 1.],\n",
              "       [0., 0., 1., 0., 0.],\n",
              "       [1., 1., 1., 1., 1.]])"
            ]
          },
          "metadata": {},
          "execution_count": 119
        }
      ]
    },
    {
      "cell_type": "code",
      "metadata": {
        "id": "UdW2Zpr5UOS6",
        "colab": {
          "base_uri": "https://localhost:8080/"
        },
        "outputId": "0f44bd3b-a0ee-42fa-9c82-2f8ead85d03f"
      },
      "source": [
        "np.std(a)  #Calculate standard variance"
      ],
      "execution_count": null,
      "outputs": [
        {
          "output_type": "execute_result",
          "data": {
            "text/plain": [
              "0.25831736843541603"
            ]
          },
          "metadata": {},
          "execution_count": 120
        }
      ]
    },
    {
      "cell_type": "code",
      "metadata": {
        "id": "blCoNp9DUOS7",
        "colab": {
          "base_uri": "https://localhost:8080/"
        },
        "outputId": "7f786f68-c242-4e9d-9361-c244059e3ecf"
      },
      "source": [
        "np.var(a) #Calculate variance"
      ],
      "execution_count": null,
      "outputs": [
        {
          "output_type": "execute_result",
          "data": {
            "text/plain": [
              "0.06672786283539846"
            ]
          },
          "metadata": {},
          "execution_count": 121
        }
      ]
    },
    {
      "cell_type": "code",
      "metadata": {
        "id": "B5gHVaooUOS9",
        "colab": {
          "base_uri": "https://localhost:8080/"
        },
        "outputId": "c16367b4-3dd8-45c0-fa3d-9b27687c0b74"
      },
      "source": [
        "np.mean(a) #Mean / average"
      ],
      "execution_count": null,
      "outputs": [
        {
          "output_type": "execute_result",
          "data": {
            "text/plain": [
              "0.43254381552182375"
            ]
          },
          "metadata": {},
          "execution_count": 122
        }
      ]
    },
    {
      "cell_type": "markdown",
      "metadata": {
        "id": "sgcE-qEvUOS_"
      },
      "source": [
        "### Unique operation"
      ]
    },
    {
      "cell_type": "code",
      "metadata": {
        "id": "KzAxMCXrUOTA",
        "colab": {
          "base_uri": "https://localhost:8080/"
        },
        "outputId": "acc9a7b6-bddd-462e-c4e5-0933e5a04075"
      },
      "source": [
        "a = np.array(['Orange', 'Mango', 'Apple', 'Apple', 'Banana', 'Mango', 'banana'])\n",
        "a"
      ],
      "execution_count": null,
      "outputs": [
        {
          "output_type": "execute_result",
          "data": {
            "text/plain": [
              "array(['Orange', 'Mango', 'Apple', 'Apple', 'Banana', 'Mango', 'banana'],\n",
              "      dtype='<U6')"
            ]
          },
          "metadata": {},
          "execution_count": 123
        }
      ]
    },
    {
      "cell_type": "code",
      "metadata": {
        "id": "br3A-GR1UOTC",
        "colab": {
          "base_uri": "https://localhost:8080/"
        },
        "outputId": "db9ea8aa-c692-4738-c7ac-d6d4f779d866"
      },
      "source": [
        "np.unique(a)"
      ],
      "execution_count": null,
      "outputs": [
        {
          "output_type": "execute_result",
          "data": {
            "text/plain": [
              "array(['Apple', 'Banana', 'Mango', 'Orange', 'banana'], dtype='<U6')"
            ]
          },
          "metadata": {},
          "execution_count": 124
        }
      ]
    },
    {
      "cell_type": "markdown",
      "metadata": {
        "id": "yq7CaUCeUOTD"
      },
      "source": [
        "## <font color='brown'>6. Storing and reading NumPy</font>"
      ]
    },
    {
      "cell_type": "markdown",
      "metadata": {
        "id": "5DPPX5KCUOTD"
      },
      "source": [
        "### Saving and Restoring"
      ]
    },
    {
      "cell_type": "code",
      "metadata": {
        "id": "gPPn4wGvUOTE"
      },
      "source": [
        "array_1 = np.arange(10, 20)\n",
        "array_2 = np.arange(30,50, 3)"
      ],
      "execution_count": null,
      "outputs": []
    },
    {
      "cell_type": "code",
      "metadata": {
        "id": "tv62Ae2XUOTF"
      },
      "source": [
        "np.save('ar1file',  #File name , will be saved with .npy extension\n",
        "        array_1 ) #Array to be saved"
      ],
      "execution_count": null,
      "outputs": []
    },
    {
      "cell_type": "code",
      "source": [
        "!ls -l"
      ],
      "metadata": {
        "colab": {
          "base_uri": "https://localhost:8080/"
        },
        "id": "GU1u7ze2hd61",
        "outputId": "af9cf3f0-f7de-4c29-cd6a-e2c91a31e9b1"
      },
      "execution_count": null,
      "outputs": [
        {
          "output_type": "stream",
          "name": "stdout",
          "text": [
            "total 8\n",
            "-rw-r--r-- 1 root root  208 Jan 20 11:34 ar1file.npy\n",
            "drwxr-xr-x 1 root root 4096 Jan 18 14:55 sample_data\n"
          ]
        }
      ]
    },
    {
      "cell_type": "code",
      "metadata": {
        "id": "BKvGwTROUOTG",
        "colab": {
          "base_uri": "https://localhost:8080/"
        },
        "outputId": "8f92412b-32a2-465e-a73f-76dac71069cc"
      },
      "source": [
        "np.load('ar1file.npy')"
      ],
      "execution_count": null,
      "outputs": [
        {
          "output_type": "execute_result",
          "data": {
            "text/plain": [
              "array([10, 11, 12, 13, 14, 15, 16, 17, 18, 19])"
            ]
          },
          "metadata": {},
          "execution_count": 128
        }
      ]
    },
    {
      "cell_type": "markdown",
      "metadata": {
        "id": "vq523GZ-UOTH"
      },
      "source": [
        "### Saving two arrays into single file"
      ]
    },
    {
      "cell_type": "code",
      "metadata": {
        "id": "n0raUsIbUOTH"
      },
      "source": [
        "np.savez('ar_multi',  #file name, extension will be .npz\n",
        "         a=array_1,\n",
        "         b=array_2)"
      ],
      "execution_count": null,
      "outputs": []
    },
    {
      "cell_type": "code",
      "source": [
        "!ls -l"
      ],
      "metadata": {
        "colab": {
          "base_uri": "https://localhost:8080/"
        },
        "id": "Yo2SGnARhzPi",
        "outputId": "d42858c8-95e6-434d-d704-aab7628c79cc"
      },
      "execution_count": null,
      "outputs": [
        {
          "output_type": "stream",
          "name": "stdout",
          "text": [
            "total 12\n",
            "-rw-r--r-- 1 root root  208 Jan 20 11:34 ar1file.npy\n",
            "-rw-r--r-- 1 root root  626 Jan 20 11:35 ar_multi.npz\n",
            "drwxr-xr-x 1 root root 4096 Jan 18 14:55 sample_data\n"
          ]
        }
      ]
    },
    {
      "cell_type": "code",
      "metadata": {
        "id": "kDNap_EIUOTI"
      },
      "source": [
        "saved_array = np.load('ar_multi.npz')"
      ],
      "execution_count": null,
      "outputs": []
    },
    {
      "cell_type": "code",
      "source": [
        "saved_array['a']"
      ],
      "metadata": {
        "colab": {
          "base_uri": "https://localhost:8080/"
        },
        "id": "97N1X1Ckh4x_",
        "outputId": "0d3d0299-5327-40e3-cb9e-bcca74d78dc2"
      },
      "execution_count": null,
      "outputs": [
        {
          "output_type": "execute_result",
          "data": {
            "text/plain": [
              "array([10, 11, 12, 13, 14, 15, 16, 17, 18, 19])"
            ]
          },
          "metadata": {},
          "execution_count": 132
        }
      ]
    },
    {
      "cell_type": "markdown",
      "metadata": {
        "id": "dSDXT3FpUOTJ"
      },
      "source": [
        "### Saving as txt file"
      ]
    },
    {
      "cell_type": "code",
      "metadata": {
        "id": "freeuD6nUOTJ"
      },
      "source": [
        "np.savetxt('ar_1.txt', array_1, delimiter=',')"
      ],
      "execution_count": null,
      "outputs": []
    },
    {
      "cell_type": "code",
      "metadata": {
        "id": "4KHwHSyzUOTJ"
      },
      "source": [
        "np.loadtxt('ar_1.txt', delimiter=',')"
      ],
      "execution_count": null,
      "outputs": []
    }
  ]
}